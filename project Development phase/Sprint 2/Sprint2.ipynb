{
  "nbformat": 4,
  "nbformat_minor": 0,
  "metadata": {
    "colab": {
      "provenance": []
    },
    "kernelspec": {
      "name": "python3",
      "display_name": "Python 3"
    },
    "language_info": {
      "name": "python"
    }
  },
  "cells": [
    {
      "cell_type": "markdown",
      "source": [
        "**TEAMID PNT2022TMID30384**\n",
        "\n",
        "***Visualzing and predicting Heart disease with interactive dashboard ***\n",
        "\n",
        "***Heart Disease Prediction Using Machine Learning Approach ***\n",
        "\n",
        "Heart disease (HD) is a major cause of mortality in modern society. Medical diagnosis is an extremely important but complicated task that should be Performed Accurately and Efficiently\n",
        "\n",
        "Cardiovascular disease is difficult to detect due to several risk factors, including high blood pressure, cholesterol, and an abnormal pulse rate.\n",
        "In this machine learning project, we have collected the dataset from Kaggle(https://www.kaggle.com/search?q=heart+disease+prediction) and we will be using Machine Learning to make predictions on whether a person is suffering from Heart Disease or not.\n",
        "\n",
        "Problem Statement\n",
        "\n",
        "* Complete analysis of Heart Disease Kaggle Dataset\n",
        "* To predict whether a person has a heart disease or not based on the various biological and physical parameters\n",
        "Machine Learning Algorithms\n",
        "* Random Forest Classifier\n",
        " K-Nearest Neighbors Classifier\n",
        "* Decision Tree Classifier\n",
        "* Naive Bayes Classifier\n",
        "\n",
        "**Import libraries**\n",
        "\n",
        "Let's first import all the necessary libraries. We will use numpy and pandas to start with. For visualization, we will usepyplot subpackage of matplotlib, use rcParams to add styling to the plots and rainbow for colors and seaborn. For implementing Machine Learning models and processing of data, we will use the sklearn library.\n",
        "\n"
      ],
      "metadata": {
        "id": "6FhIUsERb7pR"
      }
    },
    {
      "cell_type": "code",
      "source": [
        "import pandas as pd\n",
        "import numpy as np\n",
        "import matplotlib.pyplot as plt\n",
        "from matplotlib import rcParams\n",
        "from matplotlib.cm import rainbow\n",
        "import seaborn as sns\n",
        "%matplotlib inline"
      ],
      "metadata": {
        "id": "c9j3SMdCdI28"
      },
      "execution_count": 1,
      "outputs": []
    },
    {
      "cell_type": "code",
      "source": [
        "For processing the data, we'll import a few libraries. To split the available dataset for testing and training, we'll use the train_test_split method. "
      ],
      "metadata": {
        "colab": {
          "base_uri": "https://localhost:8080/",
          "height": 130
        },
        "id": "scxSpp_mdUU0",
        "outputId": "27e4f6ec-29f2-4b54-bc39-c0821251c096"
      },
      "execution_count": 6,
      "outputs": [
        {
          "output_type": "error",
          "ename": "SyntaxError",
          "evalue": "ignored",
          "traceback": [
            "\u001b[0;36m  File \u001b[0;32m\"<ipython-input-6-7f08b0a4645b>\"\u001b[0;36m, line \u001b[0;32m1\u001b[0m\n\u001b[0;31m    For processing the data, we'll import a few libraries. To split the available dataset for testing and training, we'll use the train_test_split method.\u001b[0m\n\u001b[0m                 ^\u001b[0m\n\u001b[0;31mSyntaxError\u001b[0m\u001b[0;31m:\u001b[0m invalid syntax\n"
          ]
        }
      ]
    },
    {
      "cell_type": "code",
      "source": [
        "from sklearn.model_selection import train_test_split\n",
        "from sklearn.preprocessing import StandardScaler\n",
        "from sklearn.preprocessing import LabelEncoder\n",
        "from sklearn import tree\n",
        "from warnings import filterwarnings\n",
        "filterwarnings(\"ignore\")"
      ],
      "metadata": {
        "id": "NrizVCrQddd8"
      },
      "execution_count": 3,
      "outputs": []
    },
    {
      "cell_type": "code",
      "source": [
        "#model validation\n",
        "from sklearn.metrics import log_loss,roc_auc_score,precision_score,f1_score,recall_score,roc_curve,auc,plot_roc_curve\n",
        "from sklearn.metrics import classification_report, confusion_matrix,accuracy_score,fbeta_score,matthews_corrcoef\n",
        "from sklearn import metrics\n",
        "from mlxtend.plotting import plot_confusion_matrix"
      ],
      "metadata": {
        "id": "fnwpijiZdkzZ"
      },
      "execution_count": 4,
      "outputs": []
    },
    {
      "cell_type": "markdown",
      "source": [
        "For model validation, we'll import a few libraries"
      ],
      "metadata": {
        "id": "A_dFynAZdqDI"
      }
    },
    {
      "cell_type": "code",
      "source": [
        "#extra\n",
        "from sklearn.pipeline import make_pipeline, make_union\n",
        "from sklearn.preprocessing import PolynomialFeatures\n",
        "from sklearn.feature_selection import SelectFwe, f_regression"
      ],
      "metadata": {
        "id": "IkVHC46Odx_L"
      },
      "execution_count": 5,
      "outputs": []
    },
    {
      "cell_type": "markdown",
      "source": [
        "Next, we will import all the Machine Learning algorithms"
      ],
      "metadata": {
        "id": "Cn71zwm0dzag"
      }
    },
    {
      "cell_type": "code",
      "source": [
        "from sklearn.ensemble import RandomForestClassifier\n",
        "from sklearn.neighbors import KNeighborsClassifier\n",
        "from sklearn.tree import DecisionTreeClassifier\n",
        "from sklearn.naive_bayes import GaussianNB"
      ],
      "metadata": {
        "id": "M3tfJaxEd3pr"
      },
      "execution_count": 7,
      "outputs": []
    },
    {
      "cell_type": "markdown",
      "source": [
        "**Import Dataset**"
      ],
      "metadata": {
        "id": "ZkoANoY2d-Y5"
      }
    },
    {
      "cell_type": "code",
      "source": [
        "dataset = pd.read_csv('HeartDataset.csv',sep=',',encoding=\"utf-8\")"
      ],
      "metadata": {
        "colab": {
          "base_uri": "https://localhost:8080/",
          "height": 311
        },
        "id": "XYO394sdeFDc",
        "outputId": "6e2d75af-864f-4bcf-c169-53dc57446d47"
      },
      "execution_count": 8,
      "outputs": [
        {
          "output_type": "error",
          "ename": "FileNotFoundError",
          "evalue": "ignored",
          "traceback": [
            "\u001b[0;31m---------------------------------------------------------------------------\u001b[0m",
            "\u001b[0;31mFileNotFoundError\u001b[0m                         Traceback (most recent call last)",
            "\u001b[0;32m<ipython-input-8-af4d4e125b42>\u001b[0m in \u001b[0;36m<module>\u001b[0;34m\u001b[0m\n\u001b[0;32m----> 1\u001b[0;31m \u001b[0mdataset\u001b[0m \u001b[0;34m=\u001b[0m \u001b[0mpd\u001b[0m\u001b[0;34m.\u001b[0m\u001b[0mread_csv\u001b[0m\u001b[0;34m(\u001b[0m\u001b[0;34m'HeartDataset.csv'\u001b[0m\u001b[0;34m,\u001b[0m\u001b[0msep\u001b[0m\u001b[0;34m=\u001b[0m\u001b[0;34m','\u001b[0m\u001b[0;34m,\u001b[0m\u001b[0mencoding\u001b[0m\u001b[0;34m=\u001b[0m\u001b[0;34m\"utf-8\"\u001b[0m\u001b[0;34m)\u001b[0m\u001b[0;34m\u001b[0m\u001b[0;34m\u001b[0m\u001b[0m\n\u001b[0m",
            "\u001b[0;32m/usr/local/lib/python3.7/dist-packages/pandas/util/_decorators.py\u001b[0m in \u001b[0;36mwrapper\u001b[0;34m(*args, **kwargs)\u001b[0m\n\u001b[1;32m    309\u001b[0m                     \u001b[0mstacklevel\u001b[0m\u001b[0;34m=\u001b[0m\u001b[0mstacklevel\u001b[0m\u001b[0;34m,\u001b[0m\u001b[0;34m\u001b[0m\u001b[0;34m\u001b[0m\u001b[0m\n\u001b[1;32m    310\u001b[0m                 )\n\u001b[0;32m--> 311\u001b[0;31m             \u001b[0;32mreturn\u001b[0m \u001b[0mfunc\u001b[0m\u001b[0;34m(\u001b[0m\u001b[0;34m*\u001b[0m\u001b[0margs\u001b[0m\u001b[0;34m,\u001b[0m \u001b[0;34m**\u001b[0m\u001b[0mkwargs\u001b[0m\u001b[0;34m)\u001b[0m\u001b[0;34m\u001b[0m\u001b[0;34m\u001b[0m\u001b[0m\n\u001b[0m\u001b[1;32m    312\u001b[0m \u001b[0;34m\u001b[0m\u001b[0m\n\u001b[1;32m    313\u001b[0m         \u001b[0;32mreturn\u001b[0m \u001b[0mwrapper\u001b[0m\u001b[0;34m\u001b[0m\u001b[0;34m\u001b[0m\u001b[0m\n",
            "\u001b[0;32m/usr/local/lib/python3.7/dist-packages/pandas/io/parsers/readers.py\u001b[0m in \u001b[0;36mread_csv\u001b[0;34m(filepath_or_buffer, sep, delimiter, header, names, index_col, usecols, squeeze, prefix, mangle_dupe_cols, dtype, engine, converters, true_values, false_values, skipinitialspace, skiprows, skipfooter, nrows, na_values, keep_default_na, na_filter, verbose, skip_blank_lines, parse_dates, infer_datetime_format, keep_date_col, date_parser, dayfirst, cache_dates, iterator, chunksize, compression, thousands, decimal, lineterminator, quotechar, quoting, doublequote, escapechar, comment, encoding, encoding_errors, dialect, error_bad_lines, warn_bad_lines, on_bad_lines, delim_whitespace, low_memory, memory_map, float_precision, storage_options)\u001b[0m\n\u001b[1;32m    584\u001b[0m     \u001b[0mkwds\u001b[0m\u001b[0;34m.\u001b[0m\u001b[0mupdate\u001b[0m\u001b[0;34m(\u001b[0m\u001b[0mkwds_defaults\u001b[0m\u001b[0;34m)\u001b[0m\u001b[0;34m\u001b[0m\u001b[0;34m\u001b[0m\u001b[0m\n\u001b[1;32m    585\u001b[0m \u001b[0;34m\u001b[0m\u001b[0m\n\u001b[0;32m--> 586\u001b[0;31m     \u001b[0;32mreturn\u001b[0m \u001b[0m_read\u001b[0m\u001b[0;34m(\u001b[0m\u001b[0mfilepath_or_buffer\u001b[0m\u001b[0;34m,\u001b[0m \u001b[0mkwds\u001b[0m\u001b[0;34m)\u001b[0m\u001b[0;34m\u001b[0m\u001b[0;34m\u001b[0m\u001b[0m\n\u001b[0m\u001b[1;32m    587\u001b[0m \u001b[0;34m\u001b[0m\u001b[0m\n\u001b[1;32m    588\u001b[0m \u001b[0;34m\u001b[0m\u001b[0m\n",
            "\u001b[0;32m/usr/local/lib/python3.7/dist-packages/pandas/io/parsers/readers.py\u001b[0m in \u001b[0;36m_read\u001b[0;34m(filepath_or_buffer, kwds)\u001b[0m\n\u001b[1;32m    480\u001b[0m \u001b[0;34m\u001b[0m\u001b[0m\n\u001b[1;32m    481\u001b[0m     \u001b[0;31m# Create the parser.\u001b[0m\u001b[0;34m\u001b[0m\u001b[0;34m\u001b[0m\u001b[0;34m\u001b[0m\u001b[0m\n\u001b[0;32m--> 482\u001b[0;31m     \u001b[0mparser\u001b[0m \u001b[0;34m=\u001b[0m \u001b[0mTextFileReader\u001b[0m\u001b[0;34m(\u001b[0m\u001b[0mfilepath_or_buffer\u001b[0m\u001b[0;34m,\u001b[0m \u001b[0;34m**\u001b[0m\u001b[0mkwds\u001b[0m\u001b[0;34m)\u001b[0m\u001b[0;34m\u001b[0m\u001b[0;34m\u001b[0m\u001b[0m\n\u001b[0m\u001b[1;32m    483\u001b[0m \u001b[0;34m\u001b[0m\u001b[0m\n\u001b[1;32m    484\u001b[0m     \u001b[0;32mif\u001b[0m \u001b[0mchunksize\u001b[0m \u001b[0;32mor\u001b[0m \u001b[0miterator\u001b[0m\u001b[0;34m:\u001b[0m\u001b[0;34m\u001b[0m\u001b[0;34m\u001b[0m\u001b[0m\n",
            "\u001b[0;32m/usr/local/lib/python3.7/dist-packages/pandas/io/parsers/readers.py\u001b[0m in \u001b[0;36m__init__\u001b[0;34m(self, f, engine, **kwds)\u001b[0m\n\u001b[1;32m    809\u001b[0m             \u001b[0mself\u001b[0m\u001b[0;34m.\u001b[0m\u001b[0moptions\u001b[0m\u001b[0;34m[\u001b[0m\u001b[0;34m\"has_index_names\"\u001b[0m\u001b[0;34m]\u001b[0m \u001b[0;34m=\u001b[0m \u001b[0mkwds\u001b[0m\u001b[0;34m[\u001b[0m\u001b[0;34m\"has_index_names\"\u001b[0m\u001b[0;34m]\u001b[0m\u001b[0;34m\u001b[0m\u001b[0;34m\u001b[0m\u001b[0m\n\u001b[1;32m    810\u001b[0m \u001b[0;34m\u001b[0m\u001b[0m\n\u001b[0;32m--> 811\u001b[0;31m         \u001b[0mself\u001b[0m\u001b[0;34m.\u001b[0m\u001b[0m_engine\u001b[0m \u001b[0;34m=\u001b[0m \u001b[0mself\u001b[0m\u001b[0;34m.\u001b[0m\u001b[0m_make_engine\u001b[0m\u001b[0;34m(\u001b[0m\u001b[0mself\u001b[0m\u001b[0;34m.\u001b[0m\u001b[0mengine\u001b[0m\u001b[0;34m)\u001b[0m\u001b[0;34m\u001b[0m\u001b[0;34m\u001b[0m\u001b[0m\n\u001b[0m\u001b[1;32m    812\u001b[0m \u001b[0;34m\u001b[0m\u001b[0m\n\u001b[1;32m    813\u001b[0m     \u001b[0;32mdef\u001b[0m \u001b[0mclose\u001b[0m\u001b[0;34m(\u001b[0m\u001b[0mself\u001b[0m\u001b[0;34m)\u001b[0m\u001b[0;34m:\u001b[0m\u001b[0;34m\u001b[0m\u001b[0;34m\u001b[0m\u001b[0m\n",
            "\u001b[0;32m/usr/local/lib/python3.7/dist-packages/pandas/io/parsers/readers.py\u001b[0m in \u001b[0;36m_make_engine\u001b[0;34m(self, engine)\u001b[0m\n\u001b[1;32m   1038\u001b[0m             )\n\u001b[1;32m   1039\u001b[0m         \u001b[0;31m# error: Too many arguments for \"ParserBase\"\u001b[0m\u001b[0;34m\u001b[0m\u001b[0;34m\u001b[0m\u001b[0;34m\u001b[0m\u001b[0m\n\u001b[0;32m-> 1040\u001b[0;31m         \u001b[0;32mreturn\u001b[0m \u001b[0mmapping\u001b[0m\u001b[0;34m[\u001b[0m\u001b[0mengine\u001b[0m\u001b[0;34m]\u001b[0m\u001b[0;34m(\u001b[0m\u001b[0mself\u001b[0m\u001b[0;34m.\u001b[0m\u001b[0mf\u001b[0m\u001b[0;34m,\u001b[0m \u001b[0;34m**\u001b[0m\u001b[0mself\u001b[0m\u001b[0;34m.\u001b[0m\u001b[0moptions\u001b[0m\u001b[0;34m)\u001b[0m  \u001b[0;31m# type: ignore[call-arg]\u001b[0m\u001b[0;34m\u001b[0m\u001b[0;34m\u001b[0m\u001b[0m\n\u001b[0m\u001b[1;32m   1041\u001b[0m \u001b[0;34m\u001b[0m\u001b[0m\n\u001b[1;32m   1042\u001b[0m     \u001b[0;32mdef\u001b[0m \u001b[0m_failover_to_python\u001b[0m\u001b[0;34m(\u001b[0m\u001b[0mself\u001b[0m\u001b[0;34m)\u001b[0m\u001b[0;34m:\u001b[0m\u001b[0;34m\u001b[0m\u001b[0;34m\u001b[0m\u001b[0m\n",
            "\u001b[0;32m/usr/local/lib/python3.7/dist-packages/pandas/io/parsers/c_parser_wrapper.py\u001b[0m in \u001b[0;36m__init__\u001b[0;34m(self, src, **kwds)\u001b[0m\n\u001b[1;32m     49\u001b[0m \u001b[0;34m\u001b[0m\u001b[0m\n\u001b[1;32m     50\u001b[0m         \u001b[0;31m# open handles\u001b[0m\u001b[0;34m\u001b[0m\u001b[0;34m\u001b[0m\u001b[0;34m\u001b[0m\u001b[0m\n\u001b[0;32m---> 51\u001b[0;31m         \u001b[0mself\u001b[0m\u001b[0;34m.\u001b[0m\u001b[0m_open_handles\u001b[0m\u001b[0;34m(\u001b[0m\u001b[0msrc\u001b[0m\u001b[0;34m,\u001b[0m \u001b[0mkwds\u001b[0m\u001b[0;34m)\u001b[0m\u001b[0;34m\u001b[0m\u001b[0;34m\u001b[0m\u001b[0m\n\u001b[0m\u001b[1;32m     52\u001b[0m         \u001b[0;32massert\u001b[0m \u001b[0mself\u001b[0m\u001b[0;34m.\u001b[0m\u001b[0mhandles\u001b[0m \u001b[0;32mis\u001b[0m \u001b[0;32mnot\u001b[0m \u001b[0;32mNone\u001b[0m\u001b[0;34m\u001b[0m\u001b[0;34m\u001b[0m\u001b[0m\n\u001b[1;32m     53\u001b[0m \u001b[0;34m\u001b[0m\u001b[0m\n",
            "\u001b[0;32m/usr/local/lib/python3.7/dist-packages/pandas/io/parsers/base_parser.py\u001b[0m in \u001b[0;36m_open_handles\u001b[0;34m(self, src, kwds)\u001b[0m\n\u001b[1;32m    227\u001b[0m             \u001b[0mmemory_map\u001b[0m\u001b[0;34m=\u001b[0m\u001b[0mkwds\u001b[0m\u001b[0;34m.\u001b[0m\u001b[0mget\u001b[0m\u001b[0;34m(\u001b[0m\u001b[0;34m\"memory_map\"\u001b[0m\u001b[0;34m,\u001b[0m \u001b[0;32mFalse\u001b[0m\u001b[0;34m)\u001b[0m\u001b[0;34m,\u001b[0m\u001b[0;34m\u001b[0m\u001b[0;34m\u001b[0m\u001b[0m\n\u001b[1;32m    228\u001b[0m             \u001b[0mstorage_options\u001b[0m\u001b[0;34m=\u001b[0m\u001b[0mkwds\u001b[0m\u001b[0;34m.\u001b[0m\u001b[0mget\u001b[0m\u001b[0;34m(\u001b[0m\u001b[0;34m\"storage_options\"\u001b[0m\u001b[0;34m,\u001b[0m \u001b[0;32mNone\u001b[0m\u001b[0;34m)\u001b[0m\u001b[0;34m,\u001b[0m\u001b[0;34m\u001b[0m\u001b[0;34m\u001b[0m\u001b[0m\n\u001b[0;32m--> 229\u001b[0;31m             \u001b[0merrors\u001b[0m\u001b[0;34m=\u001b[0m\u001b[0mkwds\u001b[0m\u001b[0;34m.\u001b[0m\u001b[0mget\u001b[0m\u001b[0;34m(\u001b[0m\u001b[0;34m\"encoding_errors\"\u001b[0m\u001b[0;34m,\u001b[0m \u001b[0;34m\"strict\"\u001b[0m\u001b[0;34m)\u001b[0m\u001b[0;34m,\u001b[0m\u001b[0;34m\u001b[0m\u001b[0;34m\u001b[0m\u001b[0m\n\u001b[0m\u001b[1;32m    230\u001b[0m         )\n\u001b[1;32m    231\u001b[0m \u001b[0;34m\u001b[0m\u001b[0m\n",
            "\u001b[0;32m/usr/local/lib/python3.7/dist-packages/pandas/io/common.py\u001b[0m in \u001b[0;36mget_handle\u001b[0;34m(path_or_buf, mode, encoding, compression, memory_map, is_text, errors, storage_options)\u001b[0m\n\u001b[1;32m    705\u001b[0m                 \u001b[0mencoding\u001b[0m\u001b[0;34m=\u001b[0m\u001b[0mioargs\u001b[0m\u001b[0;34m.\u001b[0m\u001b[0mencoding\u001b[0m\u001b[0;34m,\u001b[0m\u001b[0;34m\u001b[0m\u001b[0;34m\u001b[0m\u001b[0m\n\u001b[1;32m    706\u001b[0m                 \u001b[0merrors\u001b[0m\u001b[0;34m=\u001b[0m\u001b[0merrors\u001b[0m\u001b[0;34m,\u001b[0m\u001b[0;34m\u001b[0m\u001b[0;34m\u001b[0m\u001b[0m\n\u001b[0;32m--> 707\u001b[0;31m                 \u001b[0mnewline\u001b[0m\u001b[0;34m=\u001b[0m\u001b[0;34m\"\"\u001b[0m\u001b[0;34m,\u001b[0m\u001b[0;34m\u001b[0m\u001b[0;34m\u001b[0m\u001b[0m\n\u001b[0m\u001b[1;32m    708\u001b[0m             )\n\u001b[1;32m    709\u001b[0m         \u001b[0;32melse\u001b[0m\u001b[0;34m:\u001b[0m\u001b[0;34m\u001b[0m\u001b[0;34m\u001b[0m\u001b[0m\n",
            "\u001b[0;31mFileNotFoundError\u001b[0m: [Errno 2] No such file or directory: 'HeartDataset.csv'"
          ]
        }
      ]
    },
    {
      "cell_type": "markdown",
      "source": [
        "**Data Preparation and Exploration**"
      ],
      "metadata": {
        "id": "yCnihreeeusG"
      }
    },
    {
      "cell_type": "code",
      "source": [
        "type(dataset)"
      ],
      "metadata": {
        "colab": {
          "base_uri": "https://localhost:8080/",
          "height": 165
        },
        "id": "YWyil7U-e8UM",
        "outputId": "c3ae1065-9af4-4f3d-9bbd-e3ebffbea28b"
      },
      "execution_count": 9,
      "outputs": [
        {
          "output_type": "error",
          "ename": "NameError",
          "evalue": "ignored",
          "traceback": [
            "\u001b[0;31m---------------------------------------------------------------------------\u001b[0m",
            "\u001b[0;31mNameError\u001b[0m                                 Traceback (most recent call last)",
            "\u001b[0;32m<ipython-input-9-5f1ab90cfcc3>\u001b[0m in \u001b[0;36m<module>\u001b[0;34m\u001b[0m\n\u001b[0;32m----> 1\u001b[0;31m \u001b[0mtype\u001b[0m\u001b[0;34m(\u001b[0m\u001b[0mdataset\u001b[0m\u001b[0;34m)\u001b[0m\u001b[0;34m\u001b[0m\u001b[0;34m\u001b[0m\u001b[0m\n\u001b[0m",
            "\u001b[0;31mNameError\u001b[0m: name 'dataset' is not defined"
          ]
        }
      ]
    },
    {
      "cell_type": "code",
      "source": [
        "dataset.shape"
      ],
      "metadata": {
        "id": "qXEFg94wfBeo"
      },
      "execution_count": null,
      "outputs": []
    },
    {
      "cell_type": "code",
      "source": [
        "dataset.info()"
      ],
      "metadata": {
        "id": "LyrpirDrfIvD"
      },
      "execution_count": null,
      "outputs": []
    },
    {
      "cell_type": "code",
      "source": [
        "dataset.columns"
      ],
      "metadata": {
        "id": "SYzZW1SQfR2d"
      },
      "execution_count": null,
      "outputs": []
    },
    {
      "cell_type": "code",
      "source": [
        "dataset.describe()"
      ],
      "metadata": {
        "id": "gi9HYfGTfaok"
      },
      "execution_count": null,
      "outputs": []
    },
    {
      "cell_type": "code",
      "source": [
        "dataset"
      ],
      "metadata": {
        "id": "DEDf9iCYfflV"
      },
      "execution_count": null,
      "outputs": []
    },
    {
      "cell_type": "code",
      "source": [
        "dataset.isnull().sum()"
      ],
      "metadata": {
        "id": "7JmLq1AQfkj8"
      },
      "execution_count": null,
      "outputs": []
    },
    {
      "cell_type": "code",
      "source": [
        "dataset.apply(lambda x:len(x.unique()))"
      ],
      "metadata": {
        "id": "91TbMUwtfsZ5"
      },
      "execution_count": null,
      "outputs": []
    },
    {
      "cell_type": "code",
      "source": [
        "print('Chest pain type',dataset['Chest pain type'].unique())\n",
        "print('FBS over 120',dataset['FBS over 120'].unique())\n",
        "print('EKG results ',dataset['EKG results'].unique())\n",
        "print('Exercise angina',dataset['Exercise angina'].unique())\n",
        "print('Slope of ST',dataset['Slope of ST'].unique())\n",
        "print('Number of vessels fluro',dataset['Number of vessels fluro'].unique())\n",
        "print(' Thallium',dataset['Thallium'].unique())"
      ],
      "metadata": {
        "id": "raHuJDdhfxg3"
      },
      "execution_count": null,
      "outputs": []
    },
    {
      "cell_type": "markdown",
      "source": [
        "**Dataset Description**\n",
        "\n",
        "This dataset consists of 14 features and a HeartDisease variable. The detailed description of all the features are as follows:\n",
        "1. Age: Patients Age in years (Numeric)\n",
        "2. Sex: Gender of patient (Male - 1, Female - 0)(Nominal)\n",
        "3. Chest Pain Type: Type of chest pain experienced by patient categorized into :(Nominal)\n",
        "* Value 1: Typical angina\n",
        "* Value 2: Atypical angina\n",
        "* Value 3: Non-anginal pain\n",
        "* Value 4: Asymptomatic\n",
        "(Angina: Angina is caused when there is not enough oxygen-rich blood flowing to a certain part of the heart. The arteries of the heart become narrow due to fatty deposits in the artery walls. The narrowing of arteries means that blood supply to the heart is reduced, causing angina.)\n",
        "4. BP: Level of blood pressure at resting mode in mm/HG (Numerical)\n",
        "5. cholestrol: Serum cholestrol in mg/dl (Numeric)\n",
        "(Cholesterol means the blockage for blood supply in the blood vessels)\n",
        "6.FBS over 120: Blood sugar levels on fasting > 120 mg/dl represents as 1 in case of true and 0 as false (Nominal)\n",
        "(blood sugar taken after a long gap between a meal and the test. Typically, it's taken before any meal in the morning.)\n",
        "7. EKG results :\n",
        "* Value 0: Normal\n",
        "* Value 1: Having ST-T wave abnormality (T wave inversions and/or ST elevation or depression of > 0.05 mV)\n",
        "* Value 2: Showing probable or definite left ventricular hypertrophy by Estes' criteria.\n",
        "8.Max HR:\n",
        "Estimation maximum HR rate is about 90\n",
        "9.Exercise angina: Exercise induced angina (1 = yes; 0 = no)\n",
        "(is chest pain while exercising or doing any physical activity.)\n",
        "10.ST depression :\n",
        "Exercise induced ST-depression in comparison with the state of rest (Numeric)\n",
        "(ST Depression is the difference between value of ECG at rest and after exercise. An electrocardiogram records the electrical signals in your heart. It's a common and painless test used to quickly detect heart problems and monitor your heart's health. Electrocardiograms — also called ECGs or EKGs — are often done in a doctor's office, a clinic or a hospital room. ECG machines are standard equipment in operating rooms and ambulances. Some personal devices, such as smart watches.)\n",
        "11.slope of ST: ST segment measured in terms of slope during peak exercise (Nominal)\n",
        "* Value 1: Upsloping\n",
        "* Value 2: Flat\n",
        "* Value 3: Downsloping\n",
        "12.Number of vessels fluro:Number of major blood vessels (0-3)(Numeric)\n",
        "(Fluoroscopy is an imaging technique that uses X-rays to obtain real-time moving images of the interior of an object. In its primary application of medical imaging, a fluoroscope allows a physician to see the internal structure and function of a patient, so that the pumping action of the heart or the motion of swallowing, for example, can be watched)\n",
        "13.Thallium\n",
        "* Value 3: normal\n",
        "* Value 6: fixed defect\n",
        "* Value 7: reversibe defect\n",
        "14.HeatDisease :arget: It is the target variable which we have to predict 2 means patient is suffering from heart risk and 1 means patient is normal. (0 = no disease; 1 = disease)\n",
        "Data Visualization\n",
        "Now let's see various visual representations of the data to understand more about relationship between various features.\n",
        "Distribution of Heart disease\n",
        "It's always a good practice to work with a dataset where the target  classes are of approximately equal size. Thus, let's check for the same."
      ],
      "metadata": {
        "id": "z4TSsv6RfzDm"
      }
    },
    {
      "cell_type": "code",
      "source": [
        "fig, (ax1) = plt.subplots(nrows=1, ncols=1, sharey=False, figsize=(14,6))\n",
        "\n",
        "ax1 = dataset['HeartDisease'].value_counts().plot.pie( x=\"Heart disease\" ,y ='no.of patients', \n",
        "                   autopct = \"%1.0f%%\",labels=[\"Heart Disease\",\"Normal\"], startangle = 60,ax=ax1);\n",
        "ax1.set(title = 'Percentage of Heart disease patients in Dataset')\n",
        "plt.show()"
      ],
      "metadata": {
        "id": "QDzANVMrgcqD"
      },
      "execution_count": null,
      "outputs": []
    },
    {
      "cell_type": "code",
      "source": [
        "y = dataset[\"HeartDisease\"]"
      ],
      "metadata": {
        "id": "_xTCO8XOgpcm"
      },
      "execution_count": null,
      "outputs": []
    },
    {
      "cell_type": "code",
      "source": [
        "rcParams['figure.figsize'] = 8,6\n",
        "plt.bar(dataset['HeartDisease'].unique(), dataset['HeartDisease'].value_counts(), color = ['blue', 'green'])\n",
        "plt.xticks([1, 2])\n",
        "plt.xlabel('Target Classes (1 =no disease; 2 = disease)')\n",
        "plt.ylabel('Samples')\n",
        "plt.title('Count of each Target Class')\n",
        "HeartDisease_temp = dataset.HeartDisease.value_counts()\n",
        "print(HeartDisease_temp)"
      ],
      "metadata": {
        "id": "ekb0h42Cgtgg"
      },
      "execution_count": null,
      "outputs": []
    },
    {
      "cell_type": "markdown",
      "source": [
        "From the total dataset of 270 patients, 150 (56%) have a heart disease (target=2)\n",
        "Next, we'll take a look at the histograms for each variable."
      ],
      "metadata": {
        "id": "n_f68fZ-gz07"
      }
    },
    {
      "cell_type": "code",
      "source": [
        "dataset.hist(edgecolor='black',layout = (7, 2),\n",
        "            figsize = (10, 30),\n",
        "            color=['purple'])"
      ],
      "metadata": {
        "id": "B8LMPOPPg4R3"
      },
      "execution_count": null,
      "outputs": []
    },
    {
      "cell_type": "markdown",
      "source": [
        "Exploratory Data Analysis (EDA)\n",
        "\n",
        "Gender distribution based on heart disease"
      ],
      "metadata": {
        "id": "dCLxlpFqhHAM"
      }
    },
    {
      "cell_type": "code",
      "source": [
        "dataset[\"Sex\"].unique()"
      ],
      "metadata": {
        "id": "kTAjEQqFhRap"
      },
      "execution_count": null,
      "outputs": []
    },
    {
      "cell_type": "code",
      "source": [
        "# Number of males and females\n",
        "F = dataset[dataset[\"Sex\"] == 0].count()[\"HeartDisease\"]\n",
        "M = dataset[dataset[\"Sex\"] == 1].count()[\"HeartDisease\"]\n",
        "\n",
        "# Create a plot\n",
        "figure, ax = plt.subplots(figsize = (6, 4))\n",
        "ax.bar(x = ['Female', 'Male'], height = [F, M])\n",
        "plt.xlabel('Gender')\n",
        "plt.title('Number of Males and Females in the dataset')\n",
        "plt.show()"
      ],
      "metadata": {
        "id": "m8HlFA5hhTjA"
      },
      "execution_count": null,
      "outputs": []
    },
    {
      "cell_type": "markdown",
      "source": [
        "**Heart Disease frequency for gender**"
      ],
      "metadata": {
        "id": "IUWXwOa-hdOo"
      }
    },
    {
      "cell_type": "code",
      "source": [
        "pd.crosstab(dataset.Sex,dataset.HeartDisease).plot(kind=\"bar\",figsize=(20,10),color=['blue','#AA1111' ])\n",
        "plt.title('Heart Disease Frequency for Sex')\n",
        "plt.xlabel('Sex (0 = Female, 1 = Male)')\n",
        "plt.xticks(rotation=0)\n",
        "plt.legend([\"Don't have Disease\", \"Have Disease\"])\n",
        "plt.ylabel('Frequency')\n",
        "plt.show()"
      ],
      "metadata": {
        "id": "b_4zLTn0hbhM"
      },
      "execution_count": null,
      "outputs": []
    },
    {
      "cell_type": "code",
      "source": [
        "countFemale = len(dataset[dataset.Sex == 0])\n",
        "countMale = len(dataset[dataset.Sex == 1])\n",
        "print(\"Percentage of Female Patients:{:.2f}%\".format((countFemale)/(len(dataset.Sex))*100))\n",
        "print(\"Percentage of Male Patients:{:.2f}%\".format((countMale)/(len(dataset.Sex))*100))"
      ],
      "metadata": {
        "id": "IwHtLGq2hstp"
      },
      "execution_count": null,
      "outputs": []
    },
    {
      "cell_type": "markdown",
      "source": [
        "Age distribution based on heart disease"
      ],
      "metadata": {
        "id": "mKparZREhuRl"
      }
    },
    {
      "cell_type": "code",
      "source": [
        "# Display age distribution based on heart disease\n",
        "sns.distplot(dataset[dataset['HeartDisease'] == 1]['Age'], label='Do not have heart disease')\n",
        "sns.distplot(dataset[dataset['HeartDisease'] == 2]['Age'], label = 'Have heart disease')\n",
        "plt.xlabel('Frequency')\n",
        "plt.ylabel('Age')\n",
        "plt.title('Age Distribution based on Heart Disease')\n",
        "plt.legend()\n",
        "plt.show()"
      ],
      "metadata": {
        "id": "htygWaUrh16Q"
      },
      "execution_count": null,
      "outputs": []
    },
    {
      "cell_type": "code",
      "source": [
        "print('Min age of people who do not have heart disease: ', min(dataset[dataset['HeartDisease'] == 0]['Age']))\n",
        "print('Max age of people who do not have heart disease: ', max(dataset[dataset['HeartDisease'] == 0]['Age']))\n",
        "print('Average age of people who do not have heart disease: ', dataset[dataset['HeartDisease'] == 0]['Age'].mean())"
      ],
      "metadata": {
        "id": "vjCkwj13iCx1"
      },
      "execution_count": null,
      "outputs": []
    },
    {
      "cell_type": "code",
      "source": [
        "print('Min age of people who have heart disease: ', min(dataset[dataset['HeartDisease'] == 1]['Age']))\n",
        "print('Max age of people who have heart disease: ', max(dataset[dataset['HeartDisease'] == 1]['Age']))\n",
        "print('Average age of people who have heart disease: ', dataset[dataset['HeartDisease'] == 1]['Age'].mean())"
      ],
      "metadata": {
        "id": "kWIOT1n3iG5D"
      },
      "execution_count": null,
      "outputs": []
    },
    {
      "cell_type": "markdown",
      "source": [
        "**Heart Disease Frequency for ages**"
      ],
      "metadata": {
        "id": "rPJsiXLZiNZ1"
      }
    },
    {
      "cell_type": "code",
      "source": [
        "pd.crosstab(dataset.Age,dataset.HeartDisease).plot(kind=\"bar\",figsize=(20,6))\n",
        "plt.title('Heart Disease Frequency for Ages')\n",
        "plt.xlabel('Age')\n",
        "plt.ylabel('Frequency')\n",
        "plt.savefig('heartDiseaseAndAges.png')\n",
        "plt.show()"
      ],
      "metadata": {
        "id": "-5dbyiuqiK0p"
      },
      "execution_count": null,
      "outputs": []
    },
    {
      "cell_type": "code",
      "source": [
        "plt.figure(figsize=(12, 10))\n",
        "dataset.Age.hist(bins=80)"
      ],
      "metadata": {
        "id": "xjbM9Uzgiep6"
      },
      "execution_count": null,
      "outputs": []
    },
    {
      "cell_type": "code",
      "source": [
        "print(f\"The most of the patients have a mean age of : {dataset.Age.mean()}\")"
      ],
      "metadata": {
        "id": "3NJ4ckgoij-Q"
      },
      "execution_count": null,
      "outputs": []
    },
    {
      "cell_type": "markdown",
      "source": [
        "**Distribution of Categorial features**"
      ],
      "metadata": {
        "id": "IiSwNbvUimEf"
      }
    },
    {
      "cell_type": "code",
      "source": [
        "categorial = [('Sex', ['female', 'male']), \n",
        "              ('Chest pain type', ['typical angina', 'atypical angina', 'non-anginal pain', 'asymptomatic']), \n",
        "              ('FBS over 120', ['fbs > 120mg', 'fbs < 120mg']), \n",
        "              ('EKG results', ['normal', 'ST-T wave', 'left ventricular']), \n",
        "              ('Exercise angina', ['yes', 'no']), \n",
        "              ('Slope of ST', ['upsloping', 'flat', 'downsloping']), \n",
        "              ('Thallium', ['normal', 'fixed defect', 'reversible defect'])]"
      ],
      "metadata": {
        "id": "QMREvvKhizYF"
      },
      "execution_count": null,
      "outputs": []
    },
    {
      "cell_type": "code",
      "source": [
        "def plotGrid(isCategorial):\n",
        "    if isCategorial:\n",
        "        [plotCategorial(x[0], x[1], i) for i, x in enumerate(categorial)] \n",
        "    else:\n",
        "        [plotContinuous(x[0], x[1], i) for i, x in enumerate(continuous)] "
      ],
      "metadata": {
        "id": "i7vtlfoVi3gm"
      },
      "execution_count": null,
      "outputs": []
    },
    {
      "cell_type": "code",
      "source": [
        "def plotCategorial(attribute, labels, ax_index):\n",
        "    sns.countplot(x=attribute, data=dataset, ax=axes[ax_index][0])\n",
        "    sns.countplot(x='HeartDisease', hue=attribute, data=dataset, ax=axes[ax_index][1])\n",
        "    avg = dataset[[attribute, 'HeartDisease']].groupby([attribute], as_index=False).mean()\n",
        "    sns.barplot(x=attribute, y='HeartDisease', hue=attribute, data=avg, ax=axes[ax_index][2])\n",
        "    \n",
        "    for t, l in zip(axes[ax_index][1].get_legend().texts, labels):\n",
        "        t.set_text(l)\n",
        "    for t, l in zip(axes[ax_index][2].get_legend().texts, labels):\n",
        "        t.set_text(l)"
      ],
      "metadata": {
        "id": "z3W-Wgqsi9Jn"
      },
      "execution_count": null,
      "outputs": []
    },
    {
      "cell_type": "code",
      "source": [
        "fig_categorial, axes = plt.subplots(nrows=len(categorial), ncols=3, figsize=(15, 30))\n",
        "\n",
        "plotGrid(True)"
      ],
      "metadata": {
        "id": "r3OZkfnXjh0p"
      },
      "execution_count": null,
      "outputs": []
    },
    {
      "cell_type": "markdown",
      "source": [
        "**Distribution of Continuous features**"
      ],
      "metadata": {
        "id": "uVhUzgAdjsSW"
      }
    },
    {
      "cell_type": "code",
      "source": [
        "continuous = [('BP', 'blood pressure in mm Hg'), \n",
        "              ('Cholesterol', 'serum cholestoral in mg/d'), \n",
        "              ('Max HR', 'maximum heart rate achieved'), \n",
        "              ('Slope of ST', 'ST depression by exercise relative to rest'), \n",
        "              ('Number of vessels fluro', '# major vessels: (0-3) colored by flourosopy')]"
      ],
      "metadata": {
        "id": "nPjyBjN-jnDr"
      },
      "execution_count": null,
      "outputs": []
    },
    {
      "cell_type": "code",
      "source": [
        "def plotContinuous(attribute, xlabel, ax_index):\n",
        "    sns.distplot(dataset[[attribute]], ax=axes[ax_index][0])\n",
        "    axes[ax_index][0].set(xlabel=xlabel, ylabel='density')\n",
        "    sns.violinplot(x='HeartDisease', y=attribute, data=dataset, ax=axes[ax_index][1])"
      ],
      "metadata": {
        "id": "SZEnswRCj1JF"
      },
      "execution_count": null,
      "outputs": []
    },
    {
      "cell_type": "code",
      "source": [
        "fig_continuous, axes = plt.subplots(nrows=len(continuous), ncols=2, figsize=(15, 22))\n",
        "\n",
        "plotGrid(isCategorial=False)"
      ],
      "metadata": {
        "id": "LllsTQdikEKu"
      },
      "execution_count": null,
      "outputs": []
    },
    {
      "cell_type": "markdown",
      "source": [
        "**PiePlots**"
      ],
      "metadata": {
        "id": "O6WzapkZkN0H"
      }
    },
    {
      "cell_type": "code",
      "source": [
        "fig, ax = plt.subplots(4,2, figsize = (14,14))\n",
        "((ax1, ax2), (ax3, ax4), (ax5, ax6), (ax7, ax8)) = ax\n",
        "\n",
        "labels = [\"Male\", \"Female\"]\n",
        "values = dataset['Sex'].value_counts().tolist()[:2]\n",
        "ax1.pie(x=values, labels=labels, autopct=\"%1.1f%%\",colors=['#AAb3ff','#CC80FF'],shadow=True, startangle=45,explode=[0.1, 0.1])\n",
        "ax1.set_title(\"Sex\", fontdict={'fontsize': 12},fontweight ='bold')\n",
        "\n",
        "labels = [\"Typical angina\", \"Atypical angina\",\"non-anginal pain\",\"asymptomatic\"]\n",
        "values = dataset['Chest pain type'].value_counts().tolist()\n",
        "ax2.pie(x=values, labels=labels, autopct=\"%1.1f%%\",colors=['#AAb3ff','#CC80FF','#DD00AA','#FF0099'],shadow=True,startangle=45,explode=[0.1, 0.1, 0.1, 0.2])\n",
        "ax2.set_title(\"Chest Pain\", fontdict={'fontsize': 12},fontweight ='bold')\n",
        "\n",
        "labels = dataset['FBS over 120'].value_counts().index.tolist()[:2]\n",
        "values = dataset['FBS over 120'].value_counts().tolist()\n",
        "ax3.pie(x=values, labels=labels, autopct=\"%1.1f%%\",colors=['#AAb3ff','#CC80FF'],shadow=True, startangle=45,explode=[0.1, 0.15])\n",
        "ax3.set_title(\"Fasting Blood Sugar\", fontdict={'fontsize': 12},fontweight ='bold')\n",
        "\n",
        "labels = dataset['EKG results'].value_counts().index.tolist()[:3]\n",
        "values = dataset['EKG results'].value_counts().tolist()\n",
        "ax4.pie(x=values, labels=labels, autopct=\"%1.1f%%\", colors=['#AAb3ff','#CC80FF','#DD00AA'],shadow=True,startangle=45,explode=[ 0.05, 0.05, 0.05])\n",
        "ax4.set_title(\"Resting Blood Pressure\", fontdict={'fontsize': 12},fontweight ='bold')\n",
        "\n",
        "labels = dataset['Exercise angina'].value_counts().index.tolist()[:2]\n",
        "values = dataset['Exercise angina'].value_counts().tolist()\n",
        "ax5.pie(x=values, labels=labels, autopct=\"%1.1f%%\", colors=['#AAb3ff','#CC80FF'],shadow=True, startangle=45,explode=[0.1, 0.1])\n",
        "ax5.set_title(\"Exercise induced Angina\", fontdict={'fontsize': 12},fontweight ='bold')\n",
        "labels = dataset['Slope of ST'].value_counts().index.tolist()[:3]\n",
        "values = dataset['Slope of ST'].value_counts().tolist()\n",
        "ax6.pie(x=values, labels=labels, autopct=\"%1.1f%%\", colors=['#AAb3ff','#CC80FF','#DD00AA'],shadow=True,startangle=45,explode=[  0.1, 0.1, 0.1])\n",
        "ax6.set_title(\"Peak exercise ST_segment Slope\", fontdict={'fontsize': 12},fontweight ='bold')\n",
        "\n",
        "labels = dataset['Number of vessels fluro'].value_counts().index.tolist()[:4]\n",
        "values = dataset['Number of vessels fluro'].value_counts().tolist()\n",
        "ax7.pie(x=values, labels=labels, autopct=\"%1.1f%%\", shadow=True, startangle=45,explode=[0.05, 0.07, 0.1, 0.1],colors=['#AAb3ff','#CC80FF','#DD00AA','#FF0099'])\n",
        "ax7.set_title(\"Major vessels\", fontdict={'fontsize': 12},fontweight ='bold')\n",
        "\n",
        "\n",
        "labels = dataset['Thallium'].value_counts().index.tolist()[:3]\n",
        "values = dataset['Thallium'].value_counts().tolist()\n",
        "ax8.pie(x=values, labels=labels, autopct=\"%1.1f%%\", shadow=True, startangle=45,explode=[0.1, 0.1, 0.1],colors=['#AAb3ff','#CC80FF','#DD00AA'])\n",
        "ax8.set_title(\"Types of Thalassemia\", fontdict={'fontsize': 12},fontweight ='bold')\n",
        "\n",
        "plt.tight_layout()\n",
        "plt.show()\n",
        "\n",
        "plt.savefig(\"PiePlots.png\")"
      ],
      "metadata": {
        "id": "6TNvQ_d9kSZA"
      },
      "execution_count": null,
      "outputs": []
    },
    {
      "cell_type": "markdown",
      "source": [
        "**Target Correlation**"
      ],
      "metadata": {
        "id": "ewq4d8rOkpgJ"
      }
    },
    {
      "cell_type": "code",
      "source": [
        "plt.figure(figsize=(10,10))\n",
        "sns.heatmap(pd.DataFrame(dataset.corr()['HeartDisease']).sort_values(by='HeartDisease').transpose().drop('HeartDisease',axis=1).transpose(),annot=True,cmap='twilight')\n",
        "plt.savefig(\"HeartDiseaseCorrelations.png\")"
      ],
      "metadata": {
        "id": "4vaGDn5nkuc3"
      },
      "execution_count": null,
      "outputs": []
    },
    {
      "cell_type": "markdown",
      "source": [
        "**Feature Importance**"
      ],
      "metadata": {
        "id": "6mc_3mf5k7VJ"
      }
    },
    {
      "cell_type": "code",
      "source": [
        "X = dataset.drop('HeartDisease',axis=1)\n",
        "Y = dataset['HeartDisease']\n",
        "from sklearn.feature_selection import SelectKBest, chi2\n",
        "fs = SelectKBest(score_func=chi2, k='all')\n",
        "fs.fit(X, Y)\n",
        "per = []\n",
        "for i in fs.scores_:\n",
        "    per.append(round(((i/sum(fs.scores_))*100),3))\n",
        "\n",
        "features_data = pd.DataFrame({'Feature':X.columns,'Scores':fs.scores_,'Importance (%)':per}).sort_values(by=['Scores'],ascending=False)\n",
        "\n",
        "plt.figure(figsize=(9,4))\n",
        "sns.barplot( 'Importance (%)','Feature',orient='h',data=features_data,palette='twilight_shifted_r')\n",
        "insignificant = features_data.loc[features_data['Importance (%)']<0.005]['Feature'].unique()\n",
        "features_data = features_data.set_index('Feature')\n",
        "features_data\n",
        "plt.savefig(\"FeatureImportance.png\")"
      ],
      "metadata": {
        "id": "n7knHQVxlE-p"
      },
      "execution_count": null,
      "outputs": []
    },
    {
      "cell_type": "markdown",
      "source": [
        "Analysing Fasting Blood sugar (FBS)\n",
        "\n",
        "Heart disease according to Fasting Blood sugar"
      ],
      "metadata": {
        "id": "1iSImbxulRf0"
      }
    },
    {
      "cell_type": "code",
      "source": [
        "# Display fasting blood sugar in bar chart\n",
        "dataset.groupby(dataset['FBS over 120']).count()['HeartDisease'].plot(kind = 'bar', title = 'Fasting Blood Sugar', figsize = (8, 6))\n",
        "plt.xticks(np.arange(2), ('fbs < 120 mg/dl', 'fbs > 120 mg/dl'), rotation = 0)\n",
        "plt.show()"
      ],
      "metadata": {
        "id": "m9BPoEbVleAY"
      },
      "execution_count": null,
      "outputs": []
    },
    {
      "cell_type": "markdown",
      "source": [
        "**Display fasting blood sugar based on the target**"
      ],
      "metadata": {
        "id": "BMO7rszXllgH"
      }
    },
    {
      "cell_type": "code",
      "source": [
        "pd.crosstab(dataset['FBS over 120'],dataset['HeartDisease'].plot(kind = \"bar\", figsize = (8, 6)))\n",
        "plt.title('Heart Disease Frequency According to Fasting Blood Sugar')\n",
        "plt.xlabel('Fasting Blood Sugar')\n",
        "plt.xticks(np.arange(2), ('fbs < 120 mg/dl', 'fbs > 120 mg/dl'), rotation = 0)\n",
        "plt.ylabel('Frequency')\n",
        "plt.show()"
      ],
      "metadata": {
        "id": "UztZmPp4lpbT"
      },
      "execution_count": null,
      "outputs": []
    },
    {
      "cell_type": "markdown",
      "source": [
        "**Analysing the Chest Pain (cp) (4 types of chest pain)**\n",
        "\n",
        "[Value 1: typical angina, Value 2: atypical angina, Value 3: non-anginal pain, Value 4: asymptomatic]"
      ],
      "metadata": {
        "id": "C39iv1CAlyey"
      }
    },
    {
      "cell_type": "code",
      "source": [
        "dataset[\"Chest pain type\"].unique()"
      ],
      "metadata": {
        "id": "pOUeFA2dl4rm"
      },
      "execution_count": null,
      "outputs": []
    },
    {
      "cell_type": "code",
      "source": [
        "plt.figure(figsize=(26, 10))\n",
        "sns.barplot(dataset[\"Chest pain type\"],y)"
      ],
      "metadata": {
        "id": "L_f8qbf3l7_x"
      },
      "execution_count": null,
      "outputs": []
    },
    {
      "cell_type": "code",
      "source": [
        "pd.crosstab(dataset['Chest pain type'],dataset['HeartDisease']).plot(kind = \"bar\", figsize = (8, 6))\n",
        "plt.title('Heart Disease Frequency According to Chest Pain Type')\n",
        "plt.xlabel('Chest Pain Type')\n",
        "plt.xticks(np.arange(4), ('typical angina', 'atypical angina', 'non-anginal pain', 'asymptomatic'), rotation = 0)\n",
        "plt.ylabel('Frequency')\n",
        "plt.show()"
      ],
      "metadata": {
        "id": "DNYa0M1LmEML"
      },
      "execution_count": null,
      "outputs": []
    },
    {
      "cell_type": "markdown",
      "source": [
        "Analysing Resting Blood Pressure"
      ],
      "metadata": {
        "id": "LzJvyKrVmLj_"
      }
    },
    {
      "cell_type": "code",
      "source": [
        "dataset[\"BP\"].unique()"
      ],
      "metadata": {
        "id": "-vgQs-XimOO6"
      },
      "execution_count": null,
      "outputs": []
    },
    {
      "cell_type": "code",
      "source": [
        "plt.figure(figsize=(26, 10))\n",
        "sns.barplot(dataset[\"BP\"],y)"
      ],
      "metadata": {
        "id": "mB-xOrtlmR2b"
      },
      "execution_count": null,
      "outputs": []
    },
    {
      "cell_type": "code",
      "source": [
        "ig, (axis1, axis2) = plt.subplots(1, 2,figsize=(25, 5))\n",
        "ax = sns.distplot(dataset[dataset['HeartDisease'] == 0]['BP'], label='Do not have heart disease', ax = axis1)\n",
        "ax.set(xlabel='People Do Not Have Heart Disease')\n",
        "ax = sns.distplot(dataset[dataset['HeartDisease'] == 1]['BP'], label = 'Have heart disease', ax = axis2)\n",
        "ax.set(xlabel='People Have Heart Disease')\n",
        "plt.show()"
      ],
      "metadata": {
        "id": "FylBKhdemYQA"
      },
      "execution_count": null,
      "outputs": []
    },
    {
      "cell_type": "code",
      "source": [
        "# Get min, max and average of the  blood pressure of the people do not have heart diseas\n",
        "print('Min blood pressure of people who do not have heart disease: ', min(dataset[dataset['HeartDisease'] == 0]['BP']))\n",
        "print('Max blood pressure of people who do not have heart disease: ', max(dataset[dataset['HeartDisease'] == 0]['BP']))\n",
        "print('Average blood pressure of people who do not have heart disease: ', dataset[dataset['HeartDisease'] == 0]['BP'].mean())"
      ],
      "metadata": {
        "id": "4ey_3c7amcsQ"
      },
      "execution_count": null,
      "outputs": []
    },
    {
      "cell_type": "code",
      "source": [
        "# Get min, max and average of the blood pressure of the people have heart diseas\n",
        "print('Min blood pressure of people who have heart disease: ', min(dataset[dataset['HeartDisease'] == 1]['BP']))\n",
        "print('Max blood pressure of people who have heart disease: ', max(dataset[dataset['HeartDisease'] == 1]['BP']))\n",
        "print('Average blood pressure of people who have heart disease: ', dataset[dataset['HeartDisease'] == 1]['BP'].mean())"
      ],
      "metadata": {
        "id": "p-IhjRSHmhzJ"
      },
      "execution_count": null,
      "outputs": []
    },
    {
      "cell_type": "markdown",
      "source": [
        "**Analysing the Resting Electrocardiographic Measurement [restecg]**\n",
        "\n",
        "(0 = normal, 1 = having ST-T wave abnormality, 2 = showing probable or definite left ventricular hypertrophy by Estes' criteria)"
      ],
      "metadata": {
        "id": "MXl14p2rmnOp"
      }
    },
    {
      "cell_type": "code",
      "source": [
        "dataset[\"EKG results\"].unique()"
      ],
      "metadata": {
        "id": "3nCU23Mjmv5d"
      },
      "execution_count": null,
      "outputs": []
    },
    {
      "cell_type": "code",
      "source": [
        "# Display electrocardiographic results in bar chart\n",
        "dataset.groupby(dataset['EKG results']).count()['HeartDisease'].plot(kind = 'bar', title = 'Resting Electrocardiographic Results', figsize = (8, 6))\n",
        "plt.xticks(np.arange(3), ('normal', 'ST-T wave abnormality', 'probable or left ventricular hypertrophy'))\n",
        "plt.show()"
      ],
      "metadata": {
        "id": "FXFCIzmImz4G"
      },
      "execution_count": null,
      "outputs": []
    },
    {
      "cell_type": "code",
      "source": [
        "# Display resting electrocardiographic results based on the target\n",
        "pd.crosstab(dataset['EKG results'],dataset['HeartDisease']).plot(kind = \"bar\", figsize = (8, 6))\n",
        "plt.title('Heart Disease Frequency According to Resting Electrocardiographic Results')\n",
        "plt.xticks(np.arange(3), ('normal', 'ST-T wave abnormality', 'probable or left ventricular hypertrophy'))\n",
        "plt.xlabel('Resting Electrocardiographic Results')\n",
        "plt.ylabel('Frequency')\n",
        "plt.show()"
      ],
      "metadata": {
        "id": "v1byzIoxm4Yr"
      },
      "execution_count": null,
      "outputs": []
    },
    {
      "cell_type": "markdown",
      "source": [
        "Usually the people who do not have heart disease have normal \n",
        "\n",
        "electrocardiographic, whereas the people who have heart disease have probable or left ventricular hypertrophy.\n",
        "\n",
        "Analysing Exercise Induced Angina [exang]\n",
        "\n",
        "(1 = yes; 0 = no)"
      ],
      "metadata": {
        "id": "wSbyCckSm-EW"
      }
    },
    {
      "cell_type": "code",
      "source": [
        "dataset[\"Exercise angina\"].unique()"
      ],
      "metadata": {
        "id": "oQbSTcx9nLuq"
      },
      "execution_count": null,
      "outputs": []
    },
    {
      "cell_type": "code",
      "source": [
        "# Display exercise induced angina in bar chart\n",
        "dataset.groupby(dataset['Exercise angina']).count()['HeartDisease'].plot(kind = 'bar', title = 'Exercise Induced Angina',  figsize = (8, 6))\n",
        "plt.xticks(np.arange(2), ('No', 'Yes'), rotation = 0)\n",
        "plt.show()"
      ],
      "metadata": {
        "id": "ZgcXcJmAnR81"
      },
      "execution_count": null,
      "outputs": []
    },
    {
      "cell_type": "markdown",
      "source": [
        "**Display exercise induced angina based on the target**"
      ],
      "metadata": {
        "id": "z5ElimkNnZ-u"
      }
    },
    {
      "cell_type": "code",
      "source": [
        "pd.crosstab(dataset['Exercise angina'],dataset['HeartDisease']).plot(kind = \"bar\", figsize = (8, 6))\n",
        "plt.title('Heart Disease Frequency According to Exercise Induced Angina')\n",
        "plt.xlabel('Exercise Induced Angina')\n",
        "plt.xticks(np.arange(2), ('No', 'Yes'), rotation = 0)\n",
        "plt.ylabel('Frequency')\n",
        "plt.show()"
      ],
      "metadata": {
        "id": "OM-Fyv9MngJ5"
      },
      "execution_count": null,
      "outputs": []
    },
    {
      "cell_type": "markdown",
      "source": [
        "The people who suffer from exercise induced angina are more likely to be infected with the heart disease.\n",
        "\n",
        "Analysing the Slope of the peak exercise ST segment [slope]\n",
        "\n",
        "(Value 1: upsloping, Value 2: flat, Value 3: downsloping)"
      ],
      "metadata": {
        "id": "1fpu2WVznoDZ"
      }
    },
    {
      "cell_type": "code",
      "source": [
        "dataset[\"Slope of ST\"].unique()"
      ],
      "metadata": {
        "id": "4HumBy5ontQn"
      },
      "execution_count": null,
      "outputs": []
    },
    {
      "cell_type": "code",
      "source": [
        "# Display slope of the peak exercise ST segment in bar chart\n",
        "dataset.groupby(dataset['Slope of ST']).count()['HeartDisease'].plot(kind = 'bar', title = 'Slope of the Peak Exercise ST Segment', figsize = (8, 6))\n",
        "plt.xticks(np.arange(3), ('upsloping', 'flat', 'downsloping'), rotation = 0)\n",
        "plt.show()"
      ],
      "metadata": {
        "id": "Rs-g-X6Kn0-B"
      },
      "execution_count": null,
      "outputs": []
    }
  ]
}