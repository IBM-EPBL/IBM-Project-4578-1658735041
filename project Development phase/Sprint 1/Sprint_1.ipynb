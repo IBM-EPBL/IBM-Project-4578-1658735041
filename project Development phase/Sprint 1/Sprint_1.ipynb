{
  "nbformat": 4,
  "nbformat_minor": 0,
  "metadata": {
    "colab": {
      "provenance": []
    },
    "kernelspec": {
      "name": "python3",
      "display_name": "Python 3"
    },
    "language_info": {
      "name": "python"
    }
  },
  "cells": [
    {
      "cell_type": "markdown",
      "source": [
        "TEAMID : PNT2022TMID30384\n",
        "\n",
        "Visualzing and predicting Heart disease with interactive dashboard\n",
        "\n",
        "**Heart Disease Prediction Using Machine Learning Approach**\n",
        "\n",
        "Heart disease (HD) is a major cause of mortality in modern society. Medical diagnosis is an extremely important but complicated task that should be Performed Accurately and Efficiently\n",
        "\n",
        "Cardiovascular disease is difficult to detect due to several risk factors, including high blood pressure, cholesterol, and an abnormal pulse rate.\n",
        "In this machine learning project, we have collected the dataset from Kaggle(https://www.kaggle.com/search?q=heart+disease+prediction) and we will be using Machine Learning to make predictions on whether a person is suffering from Heart Disease or not.\n",
        "\n",
        "Problem Statement\n",
        "\n",
        "* Complete analysis of Heart Disease Kaggle Dataset\n",
        "* To predict whether a person has a heart disease or not based on the various biological and physical parameters\n",
        "\n",
        "Machine Learning Algorithms\n",
        "\n",
        "* Random Forest Classifier\n",
        "* K-Nearest Neighbors Classifier\n",
        "* Decision Tree Classifier\n",
        "* Naive Bayes Classifier\n",
        "\n",
        "**Import libraries**\n",
        "\n",
        "Let's first import all the necessary libraries. We will use numpy and pandas to start with. For visualization, we will usepyplot subpackage of matplotlib, use rcParams to add styling to the plots and rainbow for colors and seaborn. For implementing Machine Learning models and processing of data, we will use the sklearn library."
      ],
      "metadata": {
        "id": "_GRSE4xoWjPj"
      }
    },
    {
      "cell_type": "code",
      "source": [
        "import pandas as pd\n",
        "import numpy as np\n",
        "import matplotlib.pyplot as plt\n",
        "from matplotlib import rcParams\n",
        "from matplotlib.cm import rainbow\n",
        "import seaborn as sns\n",
        "%matplotlib inline"
      ],
      "metadata": {
        "id": "K49WEZ_OY4Hz"
      },
      "execution_count": null,
      "outputs": []
    },
    {
      "cell_type": "markdown",
      "source": [
        "For processing the data, we'll import a few libraries. To split the available dataset for testing and training, we'll use the train_test_split method."
      ],
      "metadata": {
        "id": "TzQO4fcktZZN"
      }
    },
    {
      "cell_type": "code",
      "source": [
        "from sklearn.model_selection import train_test_split\n",
        "from sklearn.preprocessing import StandardScaler\n",
        "from sklearn.preprocessing import LabelEncoder\n",
        "from sklearn import tree\n",
        "from warnings import filterwarnings\n",
        "filterwarnings(\"ignore\")"
      ],
      "metadata": {
        "id": "S8Aea6E0ZNLu"
      },
      "execution_count": null,
      "outputs": []
    },
    {
      "cell_type": "code",
      "source": [
        "#model validation\n",
        "from sklearn.metrics import log_loss,roc_auc_score,precision_score,f1_score,recall_score,roc_curve,auc,plot_roc_curve\n",
        "from sklearn.metrics import classification_report, confusion_matrix,accuracy_score,fbeta_score,matthews_corrcoef\n",
        "from sklearn import metrics\n",
        "from mlxtend.plotting import plot_confusion_matrix"
      ],
      "metadata": {
        "id": "tfyxGQ3xZRp7"
      },
      "execution_count": null,
      "outputs": []
    },
    {
      "cell_type": "markdown",
      "source": [
        "For model validation, we'll import a few libraries"
      ],
      "metadata": {
        "id": "OqOm8jGmZbEJ"
      }
    },
    {
      "cell_type": "code",
      "source": [
        "#extra\n",
        "from sklearn.pipeline import make_pipeline, make_union\n",
        "from sklearn.preprocessing import PolynomialFeatures\n",
        "from sklearn.feature_selection import SelectFwe, f_regression"
      ],
      "metadata": {
        "id": "nafogmV3Zdau"
      },
      "execution_count": null,
      "outputs": []
    },
    {
      "cell_type": "markdown",
      "source": [
        "Next, we will import all the Machine Learning algorithms"
      ],
      "metadata": {
        "id": "X2CFwV6yZnHB"
      }
    },
    {
      "cell_type": "code",
      "source": [
        "from sklearn.ensemble import RandomForestClassifier\n",
        "from sklearn.neighbors import KNeighborsClassifier\n",
        "from sklearn.tree import DecisionTreeClassifier\n",
        "from sklearn.naive_bayes import GaussianNB"
      ],
      "metadata": {
        "id": "7sYV-N1_Zsb0"
      },
      "execution_count": null,
      "outputs": []
    },
    {
      "cell_type": "markdown",
      "source": [
        "Import Dataset"
      ],
      "metadata": {
        "id": "zqjnZZYJZzpN"
      }
    },
    {
      "cell_type": "code",
      "source": [
        "from google.colab import drive\n",
        "drive.mount('/content/drive')"
      ],
      "metadata": {
        "id": "YyiXJ4pQ4q2H"
      },
      "execution_count": null,
      "outputs": []
    },
    {
      "cell_type": "code",
      "source": [
        "dataset = pd.read_csv('/content/Heart_Disease_Prediction.csv')"
      ],
      "metadata": {
        "id": "9EMdL7a3Z7El",
        "colab": {
          "base_uri": "https://localhost:8080/",
          "height": 165
        },
        "outputId": "23b1e9aa-d583-4532-85e0-b33998245ad8"
      },
      "execution_count": null,
      "outputs": [
        {
          "output_type": "error",
          "ename": "NameError",
          "evalue": "ignored",
          "traceback": [
            "\u001b[0;31m---------------------------------------------------------------------------\u001b[0m",
            "\u001b[0;31mNameError\u001b[0m                                 Traceback (most recent call last)",
            "\u001b[0;32m<ipython-input-2-b154c34f0030>\u001b[0m in \u001b[0;36m<module>\u001b[0;34m\u001b[0m\n\u001b[0;32m----> 1\u001b[0;31m \u001b[0mdataset\u001b[0m \u001b[0;34m=\u001b[0m \u001b[0mpd\u001b[0m\u001b[0;34m.\u001b[0m\u001b[0mread_csv\u001b[0m\u001b[0;34m(\u001b[0m\u001b[0;34m'/content/Heart_Disease_Prediction.csv'\u001b[0m\u001b[0;34m)\u001b[0m\u001b[0;34m\u001b[0m\u001b[0;34m\u001b[0m\u001b[0m\n\u001b[0m",
            "\u001b[0;31mNameError\u001b[0m: name 'pd' is not defined"
          ]
        }
      ]
    },
    {
      "cell_type": "markdown",
      "source": [
        "Data Preparation and Exploration"
      ],
      "metadata": {
        "id": "rRymOJdzaFnj"
      }
    },
    {
      "cell_type": "code",
      "source": [
        "type(dataset)"
      ],
      "metadata": {
        "id": "8yIfoowWaQHw",
        "colab": {
          "base_uri": "https://localhost:8080/",
          "height": 165
        },
        "outputId": "f2006371-fa5a-4f48-b10a-34bfb35314e2"
      },
      "execution_count": null,
      "outputs": [
        {
          "output_type": "error",
          "ename": "NameError",
          "evalue": "ignored",
          "traceback": [
            "\u001b[0;31m---------------------------------------------------------------------------\u001b[0m",
            "\u001b[0;31mNameError\u001b[0m                                 Traceback (most recent call last)",
            "\u001b[0;32m<ipython-input-8-5f1ab90cfcc3>\u001b[0m in \u001b[0;36m<module>\u001b[0;34m\u001b[0m\n\u001b[0;32m----> 1\u001b[0;31m \u001b[0mtype\u001b[0m\u001b[0;34m(\u001b[0m\u001b[0mdataset\u001b[0m\u001b[0;34m)\u001b[0m\u001b[0;34m\u001b[0m\u001b[0;34m\u001b[0m\u001b[0m\n\u001b[0m",
            "\u001b[0;31mNameError\u001b[0m: name 'dataset' is not defined"
          ]
        }
      ]
    },
    {
      "cell_type": "code",
      "source": [
        "dataset.shape"
      ],
      "metadata": {
        "id": "OHijnUa5ado5"
      },
      "execution_count": null,
      "outputs": []
    },
    {
      "cell_type": "code",
      "source": [
        "dataset.info()"
      ],
      "metadata": {
        "id": "LAyFULcvauLq"
      },
      "execution_count": null,
      "outputs": []
    },
    {
      "cell_type": "code",
      "source": [
        "dataset.columns"
      ],
      "metadata": {
        "id": "ntTWF80gb9Td"
      },
      "execution_count": null,
      "outputs": []
    },
    {
      "cell_type": "code",
      "source": [
        "dataset.describe()"
      ],
      "metadata": {
        "id": "Psnt_2PncBwz"
      },
      "execution_count": null,
      "outputs": []
    },
    {
      "cell_type": "code",
      "source": [
        "dataset"
      ],
      "metadata": {
        "id": "A24clPbQcKjR"
      },
      "execution_count": null,
      "outputs": []
    },
    {
      "cell_type": "code",
      "source": [
        "dataset.head()"
      ],
      "metadata": {
        "id": "bivE5A5JcSHs"
      },
      "execution_count": null,
      "outputs": []
    },
    {
      "cell_type": "code",
      "source": [
        "dataset.isnull().sum()"
      ],
      "metadata": {
        "id": "FzGdZIIzcTol"
      },
      "execution_count": null,
      "outputs": []
    },
    {
      "cell_type": "code",
      "source": [
        "dataset.apply(lambda x:len(x.unique()))"
      ],
      "metadata": {
        "id": "---rjTiMcesa"
      },
      "execution_count": null,
      "outputs": []
    },
    {
      "cell_type": "code",
      "source": [
        "print('Chest pain type',dataset['Chest pain type'].unique())\n",
        "print('FBS over 120',dataset['FBS over 120'].unique())\n",
        "print('EKG results ',dataset['EKG results'].unique())\n",
        "print('Exercise angina',dataset['Exercise angina'].unique())\n",
        "print('Slope of ST',dataset['Slope of ST'].unique())\n",
        "print('Number of vessels fluro',dataset['Number of vessels fluro'].unique())\n",
        "print(' Thallium',dataset['Thallium'].unique())"
      ],
      "metadata": {
        "id": "tz4IUfiNckHi"
      },
      "execution_count": null,
      "outputs": []
    },
    {
      "cell_type": "markdown",
      "source": [
        "Chest pain type [4 3 2 1]\n",
        "\n",
        "FBS over 120 [0 1]\n",
        "\n",
        "EKG results  [2 0 1]\n",
        "\n",
        "Exercise angina [0 1]\n",
        "\n",
        "Slope of ST [2 1 3]\n",
        "\n",
        "Number of vessels fluro [3 0 1 2]\n",
        "\n",
        " Thallium [3 7 6]\n",
        "\n",
        "**Dataset Description**\n",
        "\n",
        "This dataset consists of 14 features and a HeartDisease variable. The detailed description of all the features are as follows:\n",
        "1. Age: Patients Age in years (Numeric)\n",
        "2. Sex: Gender of patient (Male - 1, Female - 0)(Nominal)\n",
        "3. Chest Pain Type: Type of chest pain experienced by patient categorized into :(Nominal)\n",
        "* Value 1: Typical angina\n",
        "* Value 2: Atypical angina\n",
        " Value 3: Non-anginal pain\n",
        "* Value 4: Asymptomatic\n",
        "(Angina: Angina is caused when there is not enough oxygen-rich blood flowing to a certain part of the heart. The arteries of the heart become narrow due to fatty deposits in the artery walls. The narrowing of arteries means that blood supply to the heart is reduced, causing angina.)\n",
        "4. BP: Level of blood pressure at resting mode in mm/HG (Numerical)\n",
        "5. cholestrol: Serum cholestrol in mg/dl (Numeric)\n",
        "(Cholesterol means the blockage for blood supply in the blood vessels)\n",
        "6.FBS over 120: Blood sugar levels on fasting > 120 mg/dl represents as 1 in case of true and 0 as false (Nominal)\n",
        "(blood sugar taken after a long gap between a meal and the test. Typically, it's taken before any meal in the morning.)\n",
        "7. EKG results :\n",
        "* Value 0: Normal\n",
        "* Value 1: Having ST-T wave abnormality (T wave inversions and/or ST elevation or depression of > 0.05 mV)\n",
        "* Value 2: Showing probable or definite left ventricular hypertrophy by Estes' criteria.\n",
        "8.Max HR:\n",
        "\n",
        "Estimation maximum HR rate is about 90\n",
        "\n",
        "9.Exercise angina: Exercise induced angina (1 = yes; 0 = no)\n",
        "\n",
        "(is chest pain while exercising or doing any physical activity.)\n",
        "\n",
        "10.ST depression :\n",
        "\n",
        "Exercise induced ST-depression in comparison with the state of rest (Numeric)\n",
        "(ST Depression is the difference between value of ECG at rest and after exercise. An electrocardiogram records the electrical signals in your heart. \n",
        "\n",
        "It's a common and painless test used to quickly detect heart problems and monitor your heart's health. Electrocardiograms — also called ECGs or EKGs — are often done in a doctor's office, a clinic or a hospital room. ECG machines are standard equipment in operating rooms and ambulances. Some personal devices, such as smart watches.)\n",
        "11.slope of ST: ST segment measured in terms of slope during peak exercise (Nominal)\n",
        "* Value 1: Upsloping\n",
        "* Value 2: Flat\n",
        "* Value 3: Downsloping\n",
        "12.Number of vessels fluro:Number of major blood vessels (0-3)(Numeric)\n",
        "(Fluoroscopy is an imaging technique that uses X-rays to obtain real-time moving images of the interior of an object. In its primary application of medical imaging, a fluoroscope allows a physician to see the internal structure and function of a patient, so that the pumping action of the heart or the motion of swallowing, for example, can be watched)\n",
        "\n",
        "13.Thallium\n",
        "\n",
        "* Value 3: normal\n",
        "* Value 6: fixed defect\n",
        "* Value 7: reversibe defect\n",
        "\n",
        "14.HeatDisease :arget: It is the target variable which we have to predict 2 means patient is suffering from heart risk and 1 means patient is normal. (0 = no disease; 1 = disease)\n",
        "\n",
        "**Data Visualization**\n",
        "\n",
        "Now let's see various visual representations of the data to understand more about relationship between various features.\n",
        "\n",
        "**Distribution of Heart disease**\n",
        "\n",
        "It's always a good practice to work with a dataset where the target classes are of approximately equal size. Thus, let's check for the same."
      ],
      "metadata": {
        "id": "f4lT46GdcuEx"
      }
    },
    {
      "cell_type": "code",
      "source": [
        "fig, (ax1) = plt.subplots(nrows=1, ncols=1, sharey=False, figsize=(14,6))\n",
        "\n",
        "ax1 = dataset['HeartDisease'].value_counts().plot.pie( x=\"Heart disease\" ,y ='no.of patients', \n",
        "                   autopct = \"%1.0f%%\",labels=[\"Heart Disease\",\"Normal\"], startangle = 60,ax=ax1);\n",
        "ax1.set(title = 'Percentage of Heart disease patients in Dataset')\n",
        "plt.show()"
      ],
      "metadata": {
        "id": "BGzueaHHd4lf"
      },
      "execution_count": null,
      "outputs": []
    },
    {
      "cell_type": "code",
      "source": [
        "y = dataset[\"HeartDisease\"]"
      ],
      "metadata": {
        "id": "AQnuNVO0eCoZ"
      },
      "execution_count": null,
      "outputs": []
    },
    {
      "cell_type": "code",
      "source": [
        "rcParams['figure.figsize'] = 8,6\n",
        "plt.bar(dataset['HeartDisease'].unique(), dataset['HeartDisease'].value_counts(), color = ['blue', 'green'])\n",
        "plt.xticks([1, 2])\n",
        "plt.xlabel('Target Classes (1 =no disease; 2 = disease)')\n",
        "plt.ylabel('Samples')\n",
        "plt.title('Count of each Target Class')\n",
        "HeartDisease_temp = dataset.HeartDisease.value_counts()\n",
        "print(HeartDisease_temp)"
      ],
      "metadata": {
        "id": "iBNiSqIceIgD"
      },
      "execution_count": null,
      "outputs": []
    },
    {
      "cell_type": "markdown",
      "source": [
        "From the total dataset of 270 patients, 150 (56%) have a heart disease (target=2)\n",
        "\n",
        "Next, we'll take a look at the histograms for each variable."
      ],
      "metadata": {
        "id": "RUE2QdmSeQOa"
      }
    },
    {
      "cell_type": "code",
      "source": [
        "dataset.hist(edgecolor='black',layout = (7, 2),\n",
        "            figsize = (10, 30),\n",
        "            color=['purple'])"
      ],
      "metadata": {
        "id": "xBhTCQSYeWC-"
      },
      "execution_count": null,
      "outputs": []
    },
    {
      "cell_type": "markdown",
      "source": [
        "Exploratory Data Analysis (EDA)\n",
        "\n",
        "Gender distribution based on heart disease"
      ],
      "metadata": {
        "id": "CYAq5Ir6ehpu"
      }
    },
    {
      "cell_type": "code",
      "source": [
        "dataset[\"Sex\"].unique()"
      ],
      "metadata": {
        "id": "Ko4SVVYeep2D"
      },
      "execution_count": null,
      "outputs": []
    },
    {
      "cell_type": "code",
      "source": [
        "# Number of males and females\n",
        "F = dataset[dataset[\"Sex\"] == 0].count()[\"HeartDisease\"]\n",
        "M = dataset[dataset[\"Sex\"] == 1].count()[\"HeartDisease\"]\n",
        "\n",
        "# Create a plot\n",
        "figure, ax = plt.subplots(figsize = (6, 4))\n",
        "ax.bar(x = ['Female', 'Male'], height = [F, M])\n",
        "plt.xlabel('Gender')\n",
        "plt.title('Number of Males and Females in the dataset')\n",
        "plt.show()"
      ],
      "metadata": {
        "id": "38VaBgcgeuDo"
      },
      "execution_count": null,
      "outputs": []
    },
    {
      "cell_type": "markdown",
      "source": [
        "Heart Disease frequency for gender"
      ],
      "metadata": {
        "id": "yGXp-l3JeyoZ"
      }
    },
    {
      "cell_type": "code",
      "source": [
        "pd.crosstab(dataset.Sex,dataset.HeartDisease).plot(kind=\"bar\",figsize=(20,10),color=['blue','#AA1111' ])\n",
        "plt.title('Heart Disease Frequency for Sex')\n",
        "plt.xlabel('Sex (0 = Female, 1 = Male)')\n",
        "plt.xticks(rotation=0)\n",
        "plt.legend([\"Don't have Disease\", \"Have Disease\"])\n",
        "plt.ylabel('Frequency')\n",
        "plt.show()"
      ],
      "metadata": {
        "id": "3XFozJ2ce5T-"
      },
      "execution_count": null,
      "outputs": []
    },
    {
      "cell_type": "code",
      "source": [
        "countFemale = len(dataset[dataset.Sex == 0])\n",
        "countMale = len(dataset[dataset.Sex == 1])\n",
        "print(\"Percentage of Female Patients:{:.2f}%\".format((countFemale)/(len(dataset.Sex))*100))\n",
        "print(\"Percentage of Male Patients:{:.2f}%\".format((countMale)/(len(dataset.Sex))*100))"
      ],
      "metadata": {
        "id": "FR93k0jUe-Pk"
      },
      "execution_count": null,
      "outputs": []
    },
    {
      "cell_type": "markdown",
      "source": [
        "Percentage of Female Patients:32.22%\n",
        "\n",
        "Percentage of Male Patients:67.78%\n",
        "\n",
        "**Age distribution based on heart disease**"
      ],
      "metadata": {
        "id": "AX2nxaXRfXco"
      }
    },
    {
      "cell_type": "code",
      "source": [
        "# Display age distribution based on heart disease\n",
        "sns.distplot(dataset[dataset['HeartDisease'] == 1]['Age'], label='Do not have heart disease')\n",
        "sns.distplot(dataset[dataset['HeartDisease'] == 2]['Age'], label = 'Have heart disease')\n",
        "plt.xlabel('Frequency')\n",
        "plt.ylabel('Age')\n",
        "plt.title('Age Distribution based on Heart Disease')\n",
        "plt.legend()\n",
        "plt.show()"
      ],
      "metadata": {
        "id": "8lBtX6sCfxLL"
      },
      "execution_count": null,
      "outputs": []
    },
    {
      "cell_type": "code",
      "source": [
        "print('Min age of people who do not have heart disease: ', min(dataset[dataset['HeartDisease'] == 0]['Age']))\n",
        "print('Max age of people who do not have heart disease: ', max(dataset[dataset['HeartDisease'] == 0]['Age']))\n",
        "print('Average age of people who do not have heart disease: ', dataset[dataset['HeartDisease'] == 0]['Age'].mean())"
      ],
      "metadata": {
        "id": "2dIVLNhOf8Zo"
      },
      "execution_count": null,
      "outputs": []
    },
    {
      "cell_type": "code",
      "source": [
        "print('Min age of people who have heart disease: ', min(dataset[dataset['HeartDisease'] == 1]['Age']))\n",
        "print('Max age of people who have heart disease: ', max(dataset[dataset['HeartDisease'] == 1]['Age']))\n",
        "print('Average age of people who have heart disease: ', dataset[dataset['HeartDisease'] == 1]['Age'].mean())"
      ],
      "metadata": {
        "id": "TzHyPOTBgDRl"
      },
      "execution_count": null,
      "outputs": []
    },
    {
      "cell_type": "markdown",
      "source": [
        "**Heart Disease Frequency for ages**"
      ],
      "metadata": {
        "id": "_Ou-9mA8gRoi"
      }
    },
    {
      "cell_type": "code",
      "source": [
        "pd.crosstab(dataset.Age,dataset.HeartDisease).plot(kind=\"bar\",figsize=(20,6))\n",
        "plt.title('Heart Disease Frequency for Ages')\n",
        "plt.xlabel('Age')\n",
        "plt.ylabel('Frequency')\n",
        "plt.savefig('heartDiseaseAndAges.png')\n",
        "plt.show()"
      ],
      "metadata": {
        "id": "JS-NQbmjgYwA"
      },
      "execution_count": null,
      "outputs": []
    }
  ]
}